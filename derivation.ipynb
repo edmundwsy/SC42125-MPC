{
 "cells": [
  {
   "cell_type": "code",
   "execution_count": 4,
   "metadata": {},
   "outputs": [],
   "source": [
    "from sympy import *\n",
    "init_printing()"
   ]
  },
  {
   "cell_type": "code",
   "execution_count": 7,
   "metadata": {},
   "outputs": [
    {
     "data": {
      "image/png": "[encoded data removed]",
      "text/latex": [
       "$\\displaystyle \\theta$"
      ],
      "text/plain": [
       "θ"
      ]
     },
     "execution_count": 7,
     "metadata": {},
     "output_type": "execute_result"
    }
   ],
   "source": [
    "\n",
    "px, py, pz, vx, vy, vz, theta, phi = symbols('p_x, p_y, p_z, v_x, v_y, v_z, theta, phi')\n",
    "f, ot, op = symbols('f, omega_theta, omega_phi')\n",
    "t, g = symbols('t, g')\n",
    "\n",
    "theta\n"
   ]
  },
  {
   "cell_type": "code",
   "execution_count": 8,
   "metadata": {},
   "outputs": [
    {
     "data": {
      "text/latex": [
       "$\\displaystyle \\left[\\begin{matrix}1 & 0 & 0 & t & 0 & 0 & 0 & 0\\\\0 & 1 & 0 & 0 & t & 0 & 0 & 0\\\\0 & 0 & 1 & 0 & 0 & t & 0 & 0\\\\0 & 0 & 0 & 1 & 0 & 0 & g t & 0\\\\0 & 0 & 0 & 0 & 1 & 0 & 0 & g t\\\\0 & 0 & 0 & 0 & 0 & 1 & 0 & 0\\\\0 & 0 & 0 & 0 & 0 & 0 & 1 & 0\\\\0 & 0 & 0 & 0 & 0 & 0 & 0 & 1\\end{matrix}\\right]$"
      ],
      "text/plain": [
       "⎡1  0  0  t  0  0   0    0 ⎤\n",
       "⎢                          ⎥\n",
       "⎢0  1  0  0  t  0   0    0 ⎥\n",
       "⎢                          ⎥\n",
       "⎢0  0  1  0  0  t   0    0 ⎥\n",
       "⎢                          ⎥\n",
       "⎢0  0  0  1  0  0  g⋅t   0 ⎥\n",
       "⎢                          ⎥\n",
       "⎢0  0  0  0  1  0   0   g⋅t⎥\n",
       "⎢                          ⎥\n",
       "⎢0  0  0  0  0  1   0    0 ⎥\n",
       "⎢                          ⎥\n",
       "⎢0  0  0  0  0  0   1    0 ⎥\n",
       "⎢                          ⎥\n",
       "⎣0  0  0  0  0  0   0    1 ⎦"
      ]
     },
     "execution_count": 8,
     "metadata": {},
     "output_type": "execute_result"
    }
   ],
   "source": [
    "A  = Matrix([\n",
    "  [1,0,0,t,0,0,0,0],\n",
    "  [0,1,0,0,t,0,0,0],\n",
    "  [0,0,1,0,0,t,0,0],\n",
    "  [0,0,0,1,0,0,g*t,0],\n",
    "  [0,0,0,0,1,0,0,g*t],\n",
    "  [0,0,0,0,0,1,0,0],\n",
    "  [0,0,0,0,0,0,1,0],\n",
    "  [0,0,0,0,0,0,0,1]\n",
    "  ])\n",
    "\n",
    "A"
   ]
  },
  {
   "cell_type": "code",
   "execution_count": 9,
   "metadata": {},
   "outputs": [
    {
     "data": {
      "text/latex": [
       "$\\displaystyle \\left[\\begin{matrix}0 & 0 & 0\\\\0 & 0 & 0\\\\0 & 0 & 0\\\\0 & 0 & 0\\\\0 & 0 & 0\\\\1 & 0 & 0\\\\0 & 1 & 0\\\\0 & 0 & 1\\end{matrix}\\right]$"
      ],
      "text/plain": [
       "⎡0  0  0⎤\n",
       "⎢       ⎥\n",
       "⎢0  0  0⎥\n",
       "⎢       ⎥\n",
       "⎢0  0  0⎥\n",
       "⎢       ⎥\n",
       "⎢0  0  0⎥\n",
       "⎢       ⎥\n",
       "⎢0  0  0⎥\n",
       "⎢       ⎥\n",
       "⎢1  0  0⎥\n",
       "⎢       ⎥\n",
       "⎢0  1  0⎥\n",
       "⎢       ⎥\n",
       "⎣0  0  1⎦"
      ]
     },
     "execution_count": 9,
     "metadata": {},
     "output_type": "execute_result"
    }
   ],
   "source": [
    "B = Matrix([\n",
    "  [0,0,0],\n",
    "  [0,0,0],\n",
    "  [0,0,0],\n",
    "  [0,0,0],\n",
    "  [0,0,0],\n",
    "  [1,0,0],\n",
    "  [0,1,0],\n",
    "  [0,0,1]\n",
    "])\n",
    "\n",
    "B"
   ]
  },
  {
   "cell_type": "code",
   "execution_count": 22,
   "metadata": {},
   "outputs": [
    {
     "name": "stdout",
     "output_type": "stream",
     "text": [
      "8\n"
     ]
    },
    {
     "data": {
      "text/latex": [
       "$\\displaystyle \\left[\\begin{array}{cccccccccccccccccccccccc}0 & 0 & 0 & 0 & 0 & 0 & 0 & g t^{2} & 0 & 0 & 3 g t^{2} & 0 & 0 & 6 g t^{2} & 0 & 0 & 10 g t^{2} & 0 & 0 & 15 g t^{2} & 0 & 0 & 21 g t^{2} & 0\\\\0 & 0 & 0 & 0 & 0 & 0 & 0 & 0 & g t^{2} & 0 & 0 & 3 g t^{2} & 0 & 0 & 6 g t^{2} & 0 & 0 & 10 g t^{2} & 0 & 0 & 15 g t^{2} & 0 & 0 & 21 g t^{2}\\\\0 & 0 & 0 & t & 0 & 0 & 2 t & 0 & 0 & 3 t & 0 & 0 & 4 t & 0 & 0 & 5 t & 0 & 0 & 6 t & 0 & 0 & 7 t & 0 & 0\\\\0 & 0 & 0 & 0 & g t & 0 & 0 & 2 g t & 0 & 0 & 3 g t & 0 & 0 & 4 g t & 0 & 0 & 5 g t & 0 & 0 & 6 g t & 0 & 0 & 7 g t & 0\\\\0 & 0 & 0 & 0 & 0 & g t & 0 & 0 & 2 g t & 0 & 0 & 3 g t & 0 & 0 & 4 g t & 0 & 0 & 5 g t & 0 & 0 & 6 g t & 0 & 0 & 7 g t\\\\1 & 0 & 0 & 1 & 0 & 0 & 1 & 0 & 0 & 1 & 0 & 0 & 1 & 0 & 0 & 1 & 0 & 0 & 1 & 0 & 0 & 1 & 0 & 0\\\\0 & 1 & 0 & 0 & 1 & 0 & 0 & 1 & 0 & 0 & 1 & 0 & 0 & 1 & 0 & 0 & 1 & 0 & 0 & 1 & 0 & 0 & 1 & 0\\\\0 & 0 & 1 & 0 & 0 & 1 & 0 & 0 & 1 & 0 & 0 & 1 & 0 & 0 & 1 & 0 & 0 & 1 & 0 & 0 & 1 & 0 & 0 & 1\\end{array}\\right]$"
      ],
      "text/plain": [
       "⎡                              2                    2                    2    \n",
       "⎢0  0  0  0   0    0    0   g⋅t      0     0   3⋅g⋅t     0      0   6⋅g⋅t     \n",
       "⎢                                                                             \n",
       "⎢                                     2                     2                 \n",
       "⎢0  0  0  0   0    0    0     0    g⋅t     0     0     3⋅g⋅t    0     0     6⋅\n",
       "⎢                                                                             \n",
       "⎢0  0  0  t   0    0   2⋅t    0      0    3⋅t    0       0     4⋅t    0       \n",
       "⎢                                                                             \n",
       "⎢0  0  0  0  g⋅t   0    0   2⋅g⋅t    0     0   3⋅g⋅t     0      0   4⋅g⋅t     \n",
       "⎢                                                                             \n",
       "⎢0  0  0  0   0   g⋅t   0     0    2⋅g⋅t   0     0     3⋅g⋅t    0     0     4⋅\n",
       "⎢                                                                             \n",
       "⎢1  0  0  1   0    0    1     0      0     1     0       0      1     0       \n",
       "⎢                                                                             \n",
       "⎢0  1  0  0   1    0    0     1      0     0     1       0      0     1       \n",
       "⎢                                                                             \n",
       "⎣0  0  1  0   0    1    0     0      1     0     0       1      0     0       \n",
       "\n",
       "                 2                      2                      2         ⎤\n",
       "0      0   10⋅g⋅t      0      0   15⋅g⋅t      0      0   21⋅g⋅t      0   ⎥\n",
       "                                                                         ⎥\n",
       "   2                      2                      2                      2⎥\n",
       "g⋅t    0      0     10⋅g⋅t    0      0     15⋅g⋅t    0      0     21⋅g⋅t ⎥\n",
       "                                                                         ⎥\n",
       "0     5⋅t     0        0     6⋅t     0        0     7⋅t     0        0   ⎥\n",
       "                                                                         ⎥\n",
       "0      0    5⋅g⋅t      0      0    6⋅g⋅t      0      0    7⋅g⋅t      0   ⎥\n",
       "                                                                         ⎥\n",
       "g⋅t    0      0      5⋅g⋅t    0      0      6⋅g⋅t    0      0      7⋅g⋅t ⎥\n",
       "                                                                         ⎥\n",
       "0      1      0        0      1      0        0      1      0        0   ⎥\n",
       "                                                                         ⎥\n",
       "0      0      1        0      0      1        0      0      1        0   ⎥\n",
       "                                                                         ⎥\n",
       "1      0      0        1      0      0        1      0      0        1   ⎦"
      ]
     },
     "execution_count": 22,
     "metadata": {},
     "output_type": "execute_result"
    }
   ],
   "source": [
    "M = Matrix([[B, A*B, A*A*B, A*A*A*B, A*A*A*A*B, A*A*A*A*A*B, A*A*A*A*A*A*B, A*A*A*A*A*A*A*B]])\n",
    "print(M.rank())\n",
    "M"
   ]
  },
  {
   "cell_type": "markdown",
   "metadata": {},
   "source": [
    "Therefore this is system is controllable."
   ]
  }
 ],
 "metadata": {
  "interpreter": {
   "hash": "6d48d89f892f1f9cac870ca1c1cc6eef359446b8498469f8bf5fb7d534f1d9ef"
  },
  "kernelspec": {
   "display_name": "Python 3.8.12 ('tensorflow')",
   "language": "python",
   "name": "python3"
  },
  "language_info": {
   "codemirror_mode": {
    "name": "ipython",
    "version": 3
   },
   "file_extension": ".py",
   "mimetype": "text/x-python",
   "name": "python",
   "nbconvert_exporter": "python",
   "pygments_lexer": "ipython3",
   "version": "3.8.8"
  },
  "orig_nbformat": 4
 },
 "nbformat": 4,
 "nbformat_minor": 2
}
