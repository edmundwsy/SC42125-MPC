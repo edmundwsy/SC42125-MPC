{
 "cells": [
  {
   "cell_type": "code",
   "execution_count": 22,
   "metadata": {},
   "outputs": [],
   "source": [
    "import numpy as np\n",
    "import sympy as sp\n",
    "import scipy.linalg as la"
   ]
  },
  {
   "cell_type": "code",
   "execution_count": 16,
   "metadata": {},
   "outputs": [],
   "source": [
    "t = 0.1\n",
    "g = 9.81\n",
    "N = 20\n"
   ]
  },
  {
   "cell_type": "code",
   "execution_count": 17,
   "metadata": {},
   "outputs": [],
   "source": [
    "A = np.array([\n",
    "  [1,0,0,t,0,0,0,0],\n",
    "  [0,1,0,0,t,0,0,0],\n",
    "  [0,0,1,0,0,t,0,0],\n",
    "  [0,0,0,1,0,0,0, g*t],\n",
    "  [0,0,0,0,1,0,g*t,0],\n",
    "  [0,0,0,0,0,1,0,0],\n",
    "  [0,0,0,0,0,0,1,0],\n",
    "  [0,0,0,0,0,0,0,1]\n",
    "  ]\n",
    ")\n",
    "B = np.array([\n",
    "  [0,0,0],\n",
    "  [0,0,0],\n",
    "  [0,0,0],\n",
    "  [0,0,0],\n",
    "  [0,0,0],\n",
    "  [t,0,0],\n",
    "  [0,t,0],\n",
    "  [0,0,t]\n",
    "])\n"
   ]
  },
  {
   "cell_type": "code",
   "execution_count": 28,
   "metadata": {},
   "outputs": [
    {
     "data": {
      "text/plain": [
       "array([[0. , 0. , 0. ],\n",
       "       [0. , 0. , 0. ],\n",
       "       [0. , 0. , 0. ],\n",
       "       [0. , 0. , 0. ],\n",
       "       [0. , 0. , 0. ],\n",
       "       [0.1, 0. , 0. ],\n",
       "       [0. , 0.1, 0. ],\n",
       "       [0. , 0. , 0.1]])"
      ]
     },
     "execution_count": 28,
     "metadata": {},
     "output_type": "execute_result"
    }
   ],
   "source": [
    "B"
   ]
  },
  {
   "cell_type": "markdown",
   "metadata": {},
   "source": [
    "Get stage cost and input cost"
   ]
  },
  {
   "cell_type": "code",
   "execution_count": 24,
   "metadata": {},
   "outputs": [],
   "source": [
    "Q = np.diag([100, 100, 100, 0.01, 0.01, 0.01, 0.01, 0.01])\n",
    "R = np.diag([0.1, 0.1, 0.1])"
   ]
  },
  {
   "cell_type": "markdown",
   "metadata": {},
   "source": [
    "Discrete Algebraic Riccati Equation (DARE)"
   ]
  },
  {
   "cell_type": "code",
   "execution_count": 25,
   "metadata": {},
   "outputs": [],
   "source": [
    "P = la.solve_discrete_are(A, B, Q, R)"
   ]
  },
  {
   "cell_type": "code",
   "execution_count": 26,
   "metadata": {},
   "outputs": [
    {
     "data": {
      "text/plain": [
       "array([[ 4.62926944e+02,  1.12579780e-13,  2.71715235e-14,\n",
       "         8.39543304e+01,  3.76898971e-14, -6.76638800e-15,\n",
       "         1.67233208e-14,  6.27040086e+01],\n",
       "       [ 1.12579780e-13,  4.62926944e+02,  2.96208280e-13,\n",
       "         2.13652440e-14,  8.39543304e+01,  1.44584455e-13,\n",
       "         6.27040086e+01, -1.58557492e-14],\n",
       "       [ 2.71715235e-14,  2.96208280e-13,  3.61822016e+02,\n",
       "        -4.79742110e-15,  2.96141426e-14,  4.73164850e+01,\n",
       "         1.76132359e-15, -4.60323355e-15],\n",
       "       [ 8.39543304e+01,  2.13652440e-14, -4.79742110e-15,\n",
       "         2.40774426e+01,  1.22085597e-15, -6.17333244e-15,\n",
       "        -2.42034579e-15,  2.27569742e+01],\n",
       "       [ 3.76898971e-14,  8.39543304e+01,  2.96141426e-14,\n",
       "         1.22085597e-15,  2.40774426e+01,  2.40290197e-14,\n",
       "         2.27569742e+01, -1.02861327e-14],\n",
       "       [-6.76638800e-15,  1.44584455e-13,  4.73164850e+01,\n",
       "        -6.17333244e-15,  2.40290197e-14,  1.23884975e+01,\n",
       "         2.51466214e-14, -1.05792536e-14],\n",
       "       [ 1.67233208e-14,  6.27040086e+01,  1.76132359e-15,\n",
       "        -2.42034579e-15,  2.27569742e+01,  2.51466214e-14,\n",
       "         2.93179270e+01, -1.98758154e-14],\n",
       "       [ 6.27040086e+01, -1.58557492e-14, -4.60323355e-15,\n",
       "         2.27569742e+01, -1.02861327e-14, -1.05792536e-14,\n",
       "        -1.98758154e-14,  2.93179270e+01]])"
      ]
     },
     "execution_count": 26,
     "metadata": {},
     "output_type": "execute_result"
    }
   ],
   "source": []
  },
  {
   "cell_type": "code",
   "execution_count": null,
   "metadata": {},
   "outputs": [],
   "source": []
  }
 ],
 "metadata": {
  "interpreter": {
   "hash": "6d48d89f892f1f9cac870ca1c1cc6eef359446b8498469f8bf5fb7d534f1d9ef"
  },
  "kernelspec": {
   "display_name": "Python 3.8.12 ('tensorflow')",
   "language": "python",
   "name": "python3"
  },
  "language_info": {
   "codemirror_mode": {
    "name": "ipython",
    "version": 3
   },
   "file_extension": ".py",
   "mimetype": "text/x-python",
   "name": "python",
   "nbconvert_exporter": "python",
   "pygments_lexer": "ipython3",
   "version": "3.8.12"
  },
  "orig_nbformat": 4
 },
 "nbformat": 4,
 "nbformat_minor": 2
}
